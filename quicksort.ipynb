{
 "cells": [
  {
   "cell_type": "code",
   "execution_count": 10,
   "metadata": {},
   "outputs": [],
   "source": [
    "# quick sort\n",
    "times = 0\n",
    "def quick_sort(arr):\n",
    "    global times\n",
    "    times += 1\n",
    "    if len(arr) <= 1:\n",
    "        print(f'times: {times}, arr: {arr}')\n",
    "        return arr\n",
    "    pivot = arr[len(arr) // 2]\n",
    "    left = [x for x in arr if x < pivot]\n",
    "    middle = [x for x in arr if x == pivot]\n",
    "    right = [x for x in arr if x > pivot]\n",
    "    print(f'times: {times}, left: {left}, middle: {middle}, right: {right}')\n",
    "    return quick_sort(left) + middle + quick_sort(right)"
   ]
  },
  {
   "cell_type": "code",
   "execution_count": 11,
   "metadata": {},
   "outputs": [
    {
     "name": "stdout",
     "output_type": "stream",
     "text": [
      "[40 65 53 94 26 13 62  8 58 82]\n",
      "times: 1, left: [8], middle: [13], right: [40, 65, 53, 94, 26, 62, 58, 82]\n",
      "times: 2, arr: [8]\n",
      "times: 3, left: [], middle: [26], right: [40, 65, 53, 94, 62, 58, 82]\n",
      "times: 4, arr: []\n",
      "times: 5, left: [40, 65, 53, 62, 58, 82], middle: [94], right: []\n",
      "times: 6, left: [40, 53, 58], middle: [62], right: [65, 82]\n",
      "times: 7, left: [40], middle: [53], right: [58]\n",
      "times: 8, arr: [40]\n",
      "times: 9, arr: [58]\n",
      "times: 10, left: [65], middle: [82], right: []\n",
      "times: 11, arr: [65]\n",
      "times: 12, arr: []\n",
      "times: 13, arr: []\n",
      "[8, 13, 26, 40, 53, 58, 62, 65, 82, 94]\n"
     ]
    }
   ],
   "source": [
    "# make sample array and sort\n",
    "import numpy as np\n",
    "arr = np.random.randint(0, 100, 10)\n",
    "print(arr)\n",
    "\n",
    "arr = quick_sort(arr)\n",
    "print(arr)"
   ]
  },
  {
   "cell_type": "code",
   "execution_count": null,
   "metadata": {},
   "outputs": [],
   "source": []
  }
 ],
 "metadata": {
  "kernelspec": {
   "display_name": "Python 3.9.7 64-bit",
   "language": "python",
   "name": "python3"
  },
  "language_info": {
   "codemirror_mode": {
    "name": "ipython",
    "version": 3
   },
   "file_extension": ".py",
   "mimetype": "text/x-python",
   "name": "python",
   "nbconvert_exporter": "python",
   "pygments_lexer": "ipython3",
   "version": "3.9.7"
  },
  "orig_nbformat": 4,
  "vscode": {
   "interpreter": {
    "hash": "aee8b7b246df8f9039afb4144a1f6fd8d2ca17a180786b69acc140d282b71a49"
   }
  }
 },
 "nbformat": 4,
 "nbformat_minor": 2
}
